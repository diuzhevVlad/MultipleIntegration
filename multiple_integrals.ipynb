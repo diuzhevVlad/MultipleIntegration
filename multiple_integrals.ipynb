{
 "cells": [
  {
   "cell_type": "code",
   "execution_count": 1,
   "metadata": {},
   "outputs": [],
   "source": [
    "from integrate_it.integrate import *\n",
    "from matplotlib import pyplot as plt\n",
    "from matplotlib.patches import Polygon\n",
    "import numpy as np"
   ]
  },
  {
   "attachments": {},
   "cell_type": "markdown",
   "metadata": {},
   "source": [
    "# Задание региона"
   ]
  },
  {
   "attachments": {},
   "cell_type": "markdown",
   "metadata": {},
   "source": [
    "Вводите точки в формате \"x y\" (минимум 3). Для окончания ввода введите пустую строку. В качестве альтернативы можно задать координатыы вершин в коде."
   ]
  },
  {
   "cell_type": "code",
   "execution_count": 2,
   "metadata": {},
   "outputs": [],
   "source": [
    "verts = [[-17, 10], [-17, 15], [13, 15], [13, 10]]\n",
    "if len(verts) == 0:\n",
    "    inp = \"\"\n",
    "    while True:\n",
    "        inp = input()\n",
    "        try:\n",
    "            verts.append(list(map(float, inp.split())))\n",
    "            if len(verts[-1]) != 2:\n",
    "                verts.pop(-1)\n",
    "            else:\n",
    "                continue\n",
    "        except Exception:\n",
    "            pass\n",
    "        if inp == \"\" and len(verts) >=3:\n",
    "                break\n",
    "        print(\"Неверный формат ввода!\")\n",
    "verts = np.array(verts,dtype=float)"
   ]
  },
  {
   "attachments": {},
   "cell_type": "markdown",
   "metadata": {},
   "source": [
    "Установите значение флага <b>square</b> на True если область является прямоугольником со сторонами, параллельными осям координат. Это в разы ускорит процесс интегрирования (не потребуется переопределять функцию на сетке), а также повлияет на расчет погрешности (более точно)."
   ]
  },
  {
   "cell_type": "code",
   "execution_count": null,
   "metadata": {},
   "outputs": [],
   "source": [
    "square = True"
   ]
  },
  {
   "attachments": {},
   "cell_type": "markdown",
   "metadata": {},
   "source": [
    "Визуализируем регион"
   ]
  },
  {
   "cell_type": "code",
   "execution_count": 4,
   "metadata": {},
   "outputs": [
    {
     "name": "stderr",
     "output_type": "stream",
     "text": [
      "/home/vladislav/Documents/StudyDocs/Math/Lab_multiple_itegrals/integrate_it/integrate.py:37: UserWarning: Matplotlib is currently using module://matplotlib_inline.backend_inline, which is a non-GUI backend, so cannot show the figure.\n",
      "  fig.show()\n"
     ]
    },
    {
     "data": {
      "image/png": "[encoded data removed]",
      "text/plain": [
       "<Figure size 640x480 with 1 Axes>"
      ]
     },
     "metadata": {},
     "output_type": "display_data"
    }
   ],
   "source": [
    "rg = Region(verts,is_square=square)\n",
    "rg.visualize()"
   ]
  },
  {
   "attachments": {},
   "cell_type": "markdown",
   "metadata": {},
   "source": [
    "# Задание Функции"
   ]
  },
  {
   "cell_type": "code",
   "execution_count": 5,
   "metadata": {},
   "outputs": [],
   "source": [
    "func = lambda x, y: x**2 / y # Функция\n",
    "func_der_x = lambda x, y: 2*x/y # Частная производная по х\n",
    "func_der_y = lambda x, y: -x**2 / (y**2) # Частная производная по у\n",
    "func_der_xy = lambda x, y: -2*x / (y**2) # Частная производная второго порядка"
   ]
  },
  {
   "attachments": {},
   "cell_type": "markdown",
   "metadata": {},
   "source": [
    "# Интегрирование"
   ]
  },
  {
   "attachments": {},
   "cell_type": "markdown",
   "metadata": {},
   "source": [
    "## Демонстрация работы"
   ]
  },
  {
   "attachments": {},
   "cell_type": "markdown",
   "metadata": {},
   "source": [
    "Установим количество промежутков разбиения по осям. Примем $N_x = N_y = N$."
   ]
  },
  {
   "cell_type": "code",
   "execution_count": null,
   "metadata": {},
   "outputs": [],
   "source": [
    "N = 10000\n",
    "N_x, N_y = [N]*2 "
   ]
  },
  {
   "cell_type": "code",
   "execution_count": 6,
   "metadata": {},
   "outputs": [],
   "source": [
    "part = Partition(func,rg,\"grid\",N_x,N_y) # Создадим объект разбиения\n",
    "info = { # Словарь с информацией, необходимой для оценки погрешностей\n",
    "    \"n_x\":N_x,\n",
    "    \"n_y\":N_y,\n",
    "    \"diff_x\": rg.get_max_x() - rg.get_min_x(),\n",
    "    \"diff_y\": rg.get_max_y() - rg.get_min_y(),\n",
    "    \"max_func\": 17**2 / 10,\n",
    "    \"max_dfunc_dx\": 2*17/10,\n",
    "    \"max_dfunc_dy\": (17/10)**2,\n",
    "    \"max_dfunc_dx_dy\": 2*17/100,\n",
    "    \"is_square\": square\n",
    "}\n",
    "integ = Integrator_Riemann(func) # Объект интегратора"
   ]
  },
  {
   "attachments": {},
   "cell_type": "markdown",
   "metadata": {},
   "source": [
    "Получим результат интегрирования с оценкой ошибки"
   ]
  },
  {
   "cell_type": "code",
   "execution_count": 7,
   "metadata": {},
   "outputs": [],
   "source": [
    "integ_output = integ.generate_riemann_sum(part,info)\n",
    "integ_output"
   ]
  },
  {
   "cell_type": "code",
   "execution_count": 9,
   "metadata": {},
   "outputs": [],
   "source": [
    "real_integ = 1/3 * np.log(1.5)*(13**3 + 17**3)"
   ]
  },
  {
   "cell_type": "code",
   "execution_count": 10,
   "metadata": {},
   "outputs": [
    {
     "name": "stdout",
     "output_type": "stream",
     "text": [
      "Результат численного интегрирования: 961.0450599564429\n",
      "Реальное значение: 960.9523062163495\n",
      "Ошибка: 0.09275374009337156\n",
      "Теоретическая ошибка: 0.873394125\n",
      "Мелкость разбиения: 9.25e-06\n"
     ]
    }
   ],
   "source": [
    "print(f\"Результат численного интегрирования: {integ_output['riemann_sum']}\\n\" + \n",
    "      f\"Реальное значение: {real_integ}\\n\" +\n",
    "      f\"Ошибка: {abs(real_integ - integ_output['riemann_sum'])}\\n\" +\n",
    "      f\"Теоретическая ошибка: {integ_output['error']}\\n\"+\n",
    "      f\"Мелкость разбиения: {integ_output['fineness']}\")"
   ]
  },
  {
   "attachments": {},
   "cell_type": "markdown",
   "metadata": {},
   "source": [
    "## Исследование зависимости погрешности от мелкости разбиения"
   ]
  },
  {
   "cell_type": "code",
   "execution_count": null,
   "metadata": {},
   "outputs": [],
   "source": []
  }
 ],
 "metadata": {
  "kernelspec": {
   "display_name": "mathvenv",
   "language": "python",
   "name": "python3"
  },
  "language_info": {
   "codemirror_mode": {
    "name": "ipython",
    "version": 3
   },
   "file_extension": ".py",
   "mimetype": "text/x-python",
   "name": "python",
   "nbconvert_exporter": "python",
   "pygments_lexer": "ipython3",
   "version": "3.10.6"
  },
  "orig_nbformat": 4,
  "vscode": {
   "interpreter": {
    "hash": "391727dab9a4697a8b24ca537f384f826d02f7f4169956ca20710e9f53c66a1d"
   }
  }
 },
 "nbformat": 4,
 "nbformat_minor": 2
}
