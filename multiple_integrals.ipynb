{
 "cells": [
  {
   "cell_type": "code",
   "execution_count": 1,
   "metadata": {},
   "outputs": [],
   "source": [
    "from integrate_it.integrate import *\n",
    "from matplotlib import pyplot as plt\n",
    "from matplotlib.patches import Polygon\n",
    "import numpy as np"
   ]
  },
  {
   "attachments": {},
   "cell_type": "markdown",
   "metadata": {},
   "source": [
    "# Задание региона"
   ]
  },
  {
   "attachments": {},
   "cell_type": "markdown",
   "metadata": {},
   "source": [
    "Вводите точки в формате \"x y\" (минимум 3). Для окончания ввода введите пустую строку."
   ]
  },
  {
   "cell_type": "code",
   "execution_count": 2,
   "metadata": {},
   "outputs": [],
   "source": [
    "verts = [[-17, 10], [-17, 15], [13, 15], [13, 10]]\n",
    "if len(verts) == 0:\n",
    "    inp = \"\"\n",
    "    while True:\n",
    "        inp = input()\n",
    "        try:\n",
    "            verts.append(list(map(float, inp.split())))\n",
    "            if len(verts[-1]) != 2:\n",
    "                verts.pop(-1)\n",
    "            else:\n",
    "                continue\n",
    "        except Exception:\n",
    "            pass\n",
    "        if inp == \"\" and len(verts) >=3:\n",
    "                break\n",
    "        print(\"Неверный формат ввода!\")"
   ]
  },
  {
   "cell_type": "code",
   "execution_count": 3,
   "metadata": {},
   "outputs": [],
   "source": [
    "verts = np.array(verts,dtype=float)\n",
    "rg = Region(verts,True)"
   ]
  },
  {
   "cell_type": "code",
   "execution_count": 4,
   "metadata": {},
   "outputs": [
    {
     "name": "stderr",
     "output_type": "stream",
     "text": [
      "/tmp/ipykernel_34069/3375063390.py:11: UserWarning: Matplotlib is currently using module://matplotlib_inline.backend_inline, which is a non-GUI backend, so cannot show the figure.\n",
      "  fig.show()\n"
     ]
    },
    {
     "data": {
      "image/png": "[encoded data removed]",
      "text/plain": [
       "<Figure size 640x480 with 1 Axes>"
      ]
     },
     "metadata": {},
     "output_type": "display_data"
    }
   ],
   "source": [
    "poly = Polygon(verts)\n",
    "poly.set_color(\"b\")\n",
    "poly.set_alpha(0.6)\n",
    "fig, ax = plt.subplots()\n",
    "x_l = (np.min(verts[:,0]),np.max(verts[:,0]))\n",
    "y_l = (np.min(verts[:,1]),np.max(verts[:,1]))\n",
    "ax.set_xlim(x_l)\n",
    "ax.set_ylim(y_l)\n",
    "ax.add_patch(poly)\n",
    "ax.grid(True)\n",
    "fig.show()"
   ]
  },
  {
   "attachments": {},
   "cell_type": "markdown",
   "metadata": {},
   "source": [
    "# Задание Функции"
   ]
  },
  {
   "cell_type": "code",
   "execution_count": 5,
   "metadata": {},
   "outputs": [],
   "source": [
    "func = lambda x, y: x**2 / y\n",
    "func_der_x = lambda x, y: 2*x/y\n",
    "func_der_y = lambda x, y: -x**2 / (y**2)\n",
    "func_der_xy = lambda x, y: -2*x / (y**2)"
   ]
  },
  {
   "attachments": {},
   "cell_type": "markdown",
   "metadata": {},
   "source": [
    "# Интегрирование"
   ]
  },
  {
   "cell_type": "code",
   "execution_count": 6,
   "metadata": {},
   "outputs": [],
   "source": [
    "N_x, N_y = [10000]*2\n",
    "part = Partition(func,rg,\"grid\",N_x,N_y)\n",
    "info = {\n",
    "    \"n_x\":N_x,\n",
    "    \"n_y\":N_y,\n",
    "    \"diff_x\": rg.get_max_x() - rg.get_min_x(),\n",
    "    \"diff_y\": rg.get_max_y() - rg.get_min_y(),\n",
    "    \"max_func\": 17**2 / 10,\n",
    "    \"max_dfunc_dx\": 2*17/10,\n",
    "    \"max_dfunc_dy\": (17/10)**2,\n",
    "    \"max_dfunc_dx_dy\": 2*17/100\n",
    "}\n",
    "integ = Integrator_Riemann(func,info_dict=info)"
   ]
  },
  {
   "cell_type": "code",
   "execution_count": 7,
   "metadata": {},
   "outputs": [],
   "source": [
    "integ_output = integ.generate_riemann_sum(part)"
   ]
  },
  {
   "cell_type": "code",
   "execution_count": 8,
   "metadata": {},
   "outputs": [
    {
     "data": {
      "text/plain": [
       "{'riemann_sum': 961.0450599564429, 'fineness': 9.25e-06, 'error': 0.873394125}"
      ]
     },
     "execution_count": 8,
     "metadata": {},
     "output_type": "execute_result"
    }
   ],
   "source": [
    "integ_output"
   ]
  },
  {
   "cell_type": "code",
   "execution_count": null,
   "metadata": {},
   "outputs": [],
   "source": []
  }
 ],
 "metadata": {
  "kernelspec": {
   "display_name": "mathvenv",
   "language": "python",
   "name": "python3"
  },
  "language_info": {
   "codemirror_mode": {
    "name": "ipython",
    "version": 3
   },
   "file_extension": ".py",
   "mimetype": "text/x-python",
   "name": "python",
   "nbconvert_exporter": "python",
   "pygments_lexer": "ipython3",
   "version": "3.10.6"
  },
  "orig_nbformat": 4,
  "vscode": {
   "interpreter": {
    "hash": "391727dab9a4697a8b24ca537f384f826d02f7f4169956ca20710e9f53c66a1d"
   }
  }
 },
 "nbformat": 4,
 "nbformat_minor": 2
}
